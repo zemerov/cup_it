{
 "cells": [
  {
   "cell_type": "code",
   "execution_count": 1,
   "metadata": {},
   "outputs": [],
   "source": [
    "import pandas as pd\n",
    "import plotly\n",
    "import matplotlib.pyplot as plt\n",
    "import numpy as np\n",
    "import sklearn\n",
    "import plotly.express as px\n",
    "import plotly.graph_objects as go"
   ]
  },
  {
   "cell_type": "code",
   "execution_count": 2,
   "metadata": {},
   "outputs": [],
   "source": [
    "data = pd.read_csv('Case Data.csv')\n",
    "data.columns = ['checkId','date', 'inn', 'customerId', 'product', 'brand', 'tag', 'price', 'amount', 'sum', 'cashback']\n",
    "data['cashback'].fillna(0, inplace=True)\n",
    "data['is_exp'] = (data['price'] > 2000)"
   ]
  },
  {
   "cell_type": "code",
   "execution_count": 18,
   "metadata": {},
   "outputs": [],
   "source": [
    "#pd.DataFrame(data.groupby('customerId')['checkId'].nunique())"
   ]
  },
  {
   "cell_type": "code",
   "execution_count": 14,
   "metadata": {},
   "outputs": [],
   "source": [
    "customer = data.groupby('checkId').sum()\n",
    "customer = pd.merge(data, customer, how='left', on='checkId')\n",
    "customer = pd.merge(customer, data.groupby('customerId')['checkId'].nunique(), how='left', on='customerId')"
   ]
  },
  {
   "cell_type": "code",
   "execution_count": 23,
   "metadata": {},
   "outputs": [
    {
     "data": {
      "text/plain": [
       "False    20642\n",
       "True       263\n",
       "Name: is_exp_y, dtype: int64"
      ]
     },
     "execution_count": 23,
     "metadata": {},
     "output_type": "execute_result"
    }
   ],
   "source": [
    "df = customer.groupby('customerId').mean() # sum_y - средний чек\n",
    "df.is_exp_y = df.is_exp_y > 0\n",
    "df.is_exp_y.value_counts()"
   ]
  },
  {
   "cell_type": "markdown",
   "metadata": {},
   "source": [
    "## Средний размер чека"
   ]
  },
  {
   "cell_type": "code",
   "execution_count": 24,
   "metadata": {},
   "outputs": [
    {
     "name": "stdout",
     "output_type": "stream",
     "text": [
      "общее количество клиентов в датасете: 20905\n",
      "Количество людей со средним чеком больше 2000: 2712; Меньше 2000: 18193\n"
     ]
    }
   ],
   "source": [
    "print('общее количество клиентов в датасете:', df.shape[0])\n",
    "print('Количество людей со средним чеком больше 2000: {}; Меньше 2000: {}'.format(\n",
    "    df[df['sum_y'] > 2000].shape[0],\n",
    "    df.shape[0] - df[df['sum_y'] > 2000].shape[0]\n",
    "))\n",
    "#print('Средний кэшбэк: ', df['cashback_y'].mean())\n",
    "#print(''.format(df[df['cashback_y'] > df['cashback_y'].mean()]))"
   ]
  },
  {
   "cell_type": "markdown",
   "metadata": {},
   "source": [
    "## Частота покупок"
   ]
  },
  {
   "cell_type": "code",
   "execution_count": 42,
   "metadata": {},
   "outputs": [],
   "source": [
    "small_check = df[df['sum_y'] <= 2000]\n",
    "#small_check[small_check['checkId_y'] >=2].shape"
   ]
  },
  {
   "cell_type": "code",
   "execution_count": 43,
   "metadata": {},
   "outputs": [
    {
     "name": "stdout",
     "output_type": "stream",
     "text": [
      "Всего клиентов с большим чеком: 18193\n",
      "Совершало покупки 2 и более раз: 4922; Совершало покупки 1 раз: 13271\n"
     ]
    }
   ],
   "source": [
    "print('Всего клиентов с большим чеком:', small_check.shape[0])\n",
    "print(\n",
    "    'Совершало покупки 2 и более раз: {}; Совершало покупки 1 раз: {}'.format(\n",
    "        small_check[small_check['checkId_y'] >=2].shape[0],\n",
    "        small_check[small_check['checkId_y'] < 2].shape[0]\n",
    "    )\n",
    ")"
   ]
  },
  {
   "cell_type": "markdown",
   "metadata": {},
   "source": [
    "## Покупка дорогих товаров"
   ]
  },
  {
   "cell_type": "code",
   "execution_count": 26,
   "metadata": {},
   "outputs": [],
   "source": [
    "big_check = df[df['sum_y'] > 2000]"
   ]
  },
  {
   "cell_type": "code",
   "execution_count": 35,
   "metadata": {},
   "outputs": [
    {
     "name": "stdout",
     "output_type": "stream",
     "text": [
      "Всего клиентов с большим чеком: 2712\n",
      "Совершало дорогие покупки: 2478; Не совершало дорогие покупки: 234\n"
     ]
    }
   ],
   "source": [
    "print('Всего клиентов с большим чеком:', big_check.shape[0])\n",
    "print(\n",
    "    'Совершало дорогие покупки: {}; Не совершало дорогие покупки: {}'.format(\n",
    "        big_check.is_exp_y.value_counts()[0],\n",
    "        big_check.is_exp_y.value_counts()[1]\n",
    "    )\n",
    ")"
   ]
  }
 ],
 "metadata": {
  "kernelspec": {
   "display_name": "Python 3",
   "language": "python",
   "name": "python3"
  },
  "language_info": {
   "codemirror_mode": {
    "name": "ipython",
    "version": 3
   },
   "file_extension": ".py",
   "mimetype": "text/x-python",
   "name": "python",
   "nbconvert_exporter": "python",
   "pygments_lexer": "ipython3",
   "version": "3.7.0"
  }
 },
 "nbformat": 4,
 "nbformat_minor": 2
}
